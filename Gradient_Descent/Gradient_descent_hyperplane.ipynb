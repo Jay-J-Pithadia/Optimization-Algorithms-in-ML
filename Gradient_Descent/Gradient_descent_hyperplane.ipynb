{
 "cells": [
  {
   "attachments": {},
   "cell_type": "markdown",
   "metadata": {},
   "source": [
    "# $Gradient$ $Descent$ $for$ $HyperPlane$"
   ]
  },
  {
   "attachments": {},
   "cell_type": "markdown",
   "metadata": {},
   "source": [
    "### $Algorithm$ $:$\n",
    "- Let the eq. of hyperplane be, $f = 2*x^2 + 3*y + 2*z$\n",
    ">\n",
    "- Initially we will start with origin (0, 0, 0) and at learning(l) of 0.01.\n",
    ">\n",
    "- In each iterations, we will find out x, y, and z gradient.\n",
    ">\n",
    "- Update the value as per formula, $new = old - l*gradient$.\n",
    ">"
   ]
  },
  {
   "cell_type": "code",
   "execution_count": 3,
   "metadata": {},
   "outputs": [
    {
     "name": "stdout",
     "output_type": "stream",
     "text": [
      "After Iteration 1 : \n",
      "\t Gradient : [0, 3, 3]\n",
      "\t Point : [0.0, -0.03, -0.03]\n",
      "\t Value of function 'f' at Point : -0.15\n",
      "\n",
      "After Iteration 2 : \n",
      "\t Gradient : [0.0, 3, 3]\n",
      "\t Point : [0.0, -0.06, -0.06]\n",
      "\t Value of function 'f' at Point : -0.3\n",
      "\n",
      "After Iteration 3 : \n",
      "\t Gradient : [0.0, 3, 3]\n",
      "\t Point : [0.0, -0.09, -0.09]\n",
      "\t Value of function 'f' at Point : -0.45\n",
      "\n",
      "After Iteration 4 : \n",
      "\t Gradient : [0.0, 3, 3]\n",
      "\t Point : [0.0, -0.12, -0.12]\n",
      "\t Value of function 'f' at Point : -0.6\n",
      "\n",
      "After Iteration 5 : \n",
      "\t Gradient : [0.0, 3, 3]\n",
      "\t Point : [0.0, -0.15, -0.15]\n",
      "\t Value of function 'f' at Point : -0.75\n",
      "\n",
      "After Iteration 6 : \n",
      "\t Gradient : [0.0, 3, 3]\n",
      "\t Point : [0.0, -0.18, -0.18]\n",
      "\t Value of function 'f' at Point : -0.9\n",
      "\n",
      "After Iteration 7 : \n",
      "\t Gradient : [0.0, 3, 3]\n",
      "\t Point : [0.0, -0.21, -0.21]\n",
      "\t Value of function 'f' at Point : -1.05\n",
      "\n",
      "After Iteration 8 : \n",
      "\t Gradient : [0.0, 3, 3]\n",
      "\t Point : [0.0, -0.24, -0.24]\n",
      "\t Value of function 'f' at Point : -1.2\n",
      "\n",
      "After Iteration 9 : \n",
      "\t Gradient : [0.0, 3, 3]\n",
      "\t Point : [0.0, -0.27, -0.27]\n",
      "\t Value of function 'f' at Point : -1.35\n",
      "\n",
      "After Iteration 10 : \n",
      "\t Gradient : [0.0, 3, 3]\n",
      "\t Point : [0.0, -0.30000000000000004, -0.30000000000000004]\n",
      "\t Value of function 'f' at Point : -1.5000000000000002\n",
      "\n"
     ]
    }
   ],
   "source": [
    "import numpy as np\n",
    "from sympy import *\n",
    "\n",
    "x,y,z = symbols(\"x y z\")\n",
    "\n",
    "# Cost Function,\n",
    "# Eq. of hyperplane\n",
    "f = 2*x**2 + 3*y + 2*z\n",
    "\n",
    "# Initial point\n",
    "x0 = np.array([0, 0, 0])\n",
    "\n",
    "x_ = x0[0]\n",
    "y_ = x0[1]\n",
    "z_ = x0[2]\n",
    "\n",
    "# Gradients w.r.t x & y\n",
    "fx = diff(f,x)\n",
    "fy = diff(f,y)\n",
    "fz = diff(f,z)\n",
    "\n",
    "# Lambdifing Gradients,\n",
    "# i.e. converting into numeric eq.\n",
    "grad_x = lambdify([x,y,z], fx)\n",
    "grad_y = lambdify([x,y,z], fy)\n",
    "grad_z = lambdify([x,y,z], fz)\n",
    "\n",
    "# No. of iterations\n",
    "epochs = 10\n",
    "# learning rate\n",
    "l = 0.01\n",
    "\n",
    "df = lambdify([x,y,z],f)\n",
    "\n",
    "for i in range(1,epochs+1):\n",
    "    # Compute gradient value at x_ & y_\n",
    "    g_x = grad_x(x_, y_, z_)\n",
    "    g_y = grad_y(x_, y_, z_)\n",
    "    g_z = grad_y(x_, y_, z_)\n",
    "    \n",
    "    # Updating x new = old_x - L*gradient\n",
    "    x_new = x_ - l*g_x\n",
    "    y_new = y_ - l*g_y\n",
    "    z_new = z_ - l*g_z\n",
    "\n",
    "    print(f\"After Iteration {i} : \")\n",
    "    print(f\"\\t Gradient : {[g_x, g_y, g_z]}\")\n",
    "    print(f\"\\t Point : {[x_new, y_new, z_new]}\")\n",
    "    print(f\"\\t Value of function 'f' at Point : {df(x_new, y_new, z_new)}\")\n",
    "    print()\n",
    "    x_ = x_new\n",
    "    y_ = y_new\n",
    "    z_ = z_new\n",
    "\n",
    "# We will repeat this process till the x_new and x_old are approx. same.\n",
    "# Hence, we can set very small tolerance like 0.000001, \n",
    "# so if x_new is less then tolerance, we will break out of loop."
   ]
  }
 ],
 "metadata": {
  "kernelspec": {
   "display_name": "Python 3",
   "language": "python",
   "name": "python3"
  },
  "language_info": {
   "codemirror_mode": {
    "name": "ipython",
    "version": 3
   },
   "file_extension": ".py",
   "mimetype": "text/x-python",
   "name": "python",
   "nbconvert_exporter": "python",
   "pygments_lexer": "ipython3",
   "version": "3.9.7"
  },
  "orig_nbformat": 4,
  "vscode": {
   "interpreter": {
    "hash": "11938c6bc6919ae2720b4d5011047913343b08a43b18698fd82dedb0d4417594"
   }
  }
 },
 "nbformat": 4,
 "nbformat_minor": 2
}
