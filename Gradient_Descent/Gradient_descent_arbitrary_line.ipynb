{
 "cells": [
  {
   "attachments": {},
   "cell_type": "markdown",
   "metadata": {},
   "source": [
    "# $Gradient$ $Descent$ $for$ $an$ $Arbitrary$ $Line$"
   ]
  },
  {
   "attachments": {},
   "cell_type": "markdown",
   "metadata": {},
   "source": [
    "### $Algorithm$ $:$ \n",
    ">\n",
    "- We know the equation of an arbitrary line $y = m*x + c$\n",
    ">\n",
    "- Let out cost function (i.e. MSE) be , $E = 1/n * Σ(y_{actual} - y_{pred})^2$\n",
    ">\n",
    "- Initially let m = 0 and c = 0 and L be our learning rate. It could be a small value like 0.0001 for good accuracy.\n",
    ">\n",
    "- Calculate the partial derivative of the Cost function with respect to m. Let partial derivative of the Cost function with respect to m be $D_{m}$ (With little change in m how much Cost function changes).\n",
    ">\n",
    "&emsp; &emsp; <img aria-describedby=\"caption-attachment-1047743\" class=\"wp-image-1047743\" src=\"https://editor.analyticsvidhya.com/uploads/976048.PNG\">\n",
    ">\n",
    "- Similarly, calculate the partial derivative with respect to c. Let partial derivative of the Cost function with respect to c be $D_{c}$ (With little change in c how much Cost function changes).\n",
    ">\n",
    "&emsp; &emsp; <img aria-describedby=\"caption-attachment-1047743\" class=\"wp-image-1047743\" src=\"https://editor.analyticsvidhya.com/uploads/978019.PNG\">\n",
    ">\n",
    "- Now update the current values of m and c using the following equation:\n",
    ">\n",
    "&emsp; &emsp; $m = m - L*D_{m}$\n",
    ">\n",
    "&emsp; &emsp; $c = c - L*D_{c}$\n",
    ">\n",
    "- We will repeat this process until our Cost function is very small (ideally 0).\n",
    ">"
   ]
  },
  {
   "cell_type": "markdown",
   "metadata": {},
   "source": [
    "### $Code$ $:$ "
   ]
  },
  {
   "cell_type": "code",
   "execution_count": 1,
   "metadata": {},
   "outputs": [],
   "source": [
    "import pandas as pd\n",
    "import numpy as np\n",
    "import seaborn as sns\n",
    "import matplotlib\n",
    "import matplotlib.pyplot as plt\n",
    "%matplotlib inline\n",
    "\n",
    "sns.set_style('whitegrid')\n",
    "matplotlib.rcParams['font.size'] = 14\n",
    "matplotlib.rcParams['figure.figsize'] = (9, 5)\n",
    "matplotlib.rcParams['figure.facecolor'] = '#00000000'"
   ]
  },
  {
   "cell_type": "code",
   "execution_count": 2,
   "metadata": {},
   "outputs": [
    {
     "data": {
      "text/html": [
       "<div>\n",
       "<style scoped>\n",
       "    .dataframe tbody tr th:only-of-type {\n",
       "        vertical-align: middle;\n",
       "    }\n",
       "\n",
       "    .dataframe tbody tr th {\n",
       "        vertical-align: top;\n",
       "    }\n",
       "\n",
       "    .dataframe thead th {\n",
       "        text-align: right;\n",
       "    }\n",
       "</style>\n",
       "<table border=\"1\" class=\"dataframe\">\n",
       "  <thead>\n",
       "    <tr style=\"text-align: right;\">\n",
       "      <th></th>\n",
       "      <th>X</th>\n",
       "      <th>Y</th>\n",
       "    </tr>\n",
       "  </thead>\n",
       "  <tbody>\n",
       "    <tr>\n",
       "      <th>0</th>\n",
       "      <td>32.502345</td>\n",
       "      <td>31.707006</td>\n",
       "    </tr>\n",
       "    <tr>\n",
       "      <th>1</th>\n",
       "      <td>53.426804</td>\n",
       "      <td>68.777596</td>\n",
       "    </tr>\n",
       "    <tr>\n",
       "      <th>2</th>\n",
       "      <td>61.530358</td>\n",
       "      <td>62.562382</td>\n",
       "    </tr>\n",
       "    <tr>\n",
       "      <th>3</th>\n",
       "      <td>47.475640</td>\n",
       "      <td>71.546632</td>\n",
       "    </tr>\n",
       "    <tr>\n",
       "      <th>4</th>\n",
       "      <td>59.813208</td>\n",
       "      <td>87.230925</td>\n",
       "    </tr>\n",
       "    <tr>\n",
       "      <th>...</th>\n",
       "      <td>...</td>\n",
       "      <td>...</td>\n",
       "    </tr>\n",
       "    <tr>\n",
       "      <th>95</th>\n",
       "      <td>50.030174</td>\n",
       "      <td>81.536991</td>\n",
       "    </tr>\n",
       "    <tr>\n",
       "      <th>96</th>\n",
       "      <td>49.239765</td>\n",
       "      <td>72.111832</td>\n",
       "    </tr>\n",
       "    <tr>\n",
       "      <th>97</th>\n",
       "      <td>50.039576</td>\n",
       "      <td>85.232007</td>\n",
       "    </tr>\n",
       "    <tr>\n",
       "      <th>98</th>\n",
       "      <td>48.149859</td>\n",
       "      <td>66.224958</td>\n",
       "    </tr>\n",
       "    <tr>\n",
       "      <th>99</th>\n",
       "      <td>25.128485</td>\n",
       "      <td>53.454394</td>\n",
       "    </tr>\n",
       "  </tbody>\n",
       "</table>\n",
       "<p>100 rows × 2 columns</p>\n",
       "</div>"
      ],
      "text/plain": [
       "            X          Y\n",
       "0   32.502345  31.707006\n",
       "1   53.426804  68.777596\n",
       "2   61.530358  62.562382\n",
       "3   47.475640  71.546632\n",
       "4   59.813208  87.230925\n",
       "..        ...        ...\n",
       "95  50.030174  81.536991\n",
       "96  49.239765  72.111832\n",
       "97  50.039576  85.232007\n",
       "98  48.149859  66.224958\n",
       "99  25.128485  53.454394\n",
       "\n",
       "[100 rows x 2 columns]"
      ]
     },
     "execution_count": 2,
     "metadata": {},
     "output_type": "execute_result"
    }
   ],
   "source": [
    "data_df = pd.read_csv(\"data.csv\", names=[\"X\",\"Y\"])\n",
    "data_df"
   ]
  },
  {
   "cell_type": "code",
   "execution_count": 3,
   "metadata": {},
   "outputs": [
    {
     "data": {
      "image/png": "[encoded data removed]",
      "text/plain": [
       "<Figure size 648x360 with 1 Axes>"
      ]
     },
     "metadata": {
      "needs_background": "light"
     },
     "output_type": "display_data"
    }
   ],
   "source": [
    "sns.scatterplot(x=data_df[\"X\"],y=data_df[\"Y\"])\n",
    "plt.show()"
   ]
  },
  {
   "cell_type": "code",
   "execution_count": 18,
   "metadata": {},
   "outputs": [
    {
     "name": "stdout",
     "output_type": "stream",
     "text": [
      "The value of Slope (m) : 1.4675440436333025\n",
      "The value of Y-intercept (c) : 0.6078985997054946\n"
     ]
    }
   ],
   "source": [
    "# Gradient Descent to find the value of m and c.\n",
    "\n",
    "# Let initial value of m & c be 0.\n",
    "m = 0\n",
    "c = 0\n",
    "\n",
    "L = 0.0001  # The learning Rate\n",
    "epochs = 10000  # The no. of iterations\n",
    "\n",
    "n = float(len(data_df[\"X\"])) # No. of elements in X\n",
    "\n",
    "# Performing Gradient Descent \n",
    "for i in range(epochs):\n",
    "    # The current predicted value of Y\n",
    "    Y_pred = m*data_df[\"X\"] + c\n",
    "\n",
    "    # Derivative w.r.t. m\n",
    "    D_m = (-2/n) * sum(data_df[\"X\"] * (data_df[\"Y\"] - Y_pred))\n",
    "    \n",
    "    # Derivative w.r.t. c\n",
    "    D_c = (-2/n) * sum(data_df[\"Y\"] - Y_pred)\n",
    "\n",
    "    # Updating m & c.\n",
    "    m = m - L * D_m\n",
    "    c = c - L * D_c\n",
    "    \n",
    "print(f\"The value of Slope (m) : {m}\")\n",
    "print(f\"The value of Y-intercept (c) : {c}\")"
   ]
  },
  {
   "cell_type": "code",
   "execution_count": 19,
   "metadata": {},
   "outputs": [
    {
     "data": {
      "image/png": "[encoded data removed]",
      "text/plain": [
       "<Figure size 648x360 with 1 Axes>"
      ]
     },
     "metadata": {
      "needs_background": "light"
     },
     "output_type": "display_data"
    }
   ],
   "source": [
    "# Making predictions\n",
    "Y_pred = m*data_df[\"X\"] + c\n",
    "\n",
    "sns.scatterplot(x = data_df[\"X\"], y = data_df[\"Y\"]) \n",
    "sns.lineplot(x = [min(data_df[\"X\"]), max(data_df[\"X\"])], y = [min(Y_pred), max(Y_pred)], color=\"red\")\n",
    "plt.show()"
   ]
  },
  {
   "cell_type": "code",
   "execution_count": 20,
   "metadata": {},
   "outputs": [
    {
     "data": {
      "text/html": [
       "<div>\n",
       "<style scoped>\n",
       "    .dataframe tbody tr th:only-of-type {\n",
       "        vertical-align: middle;\n",
       "    }\n",
       "\n",
       "    .dataframe tbody tr th {\n",
       "        vertical-align: top;\n",
       "    }\n",
       "\n",
       "    .dataframe thead th {\n",
       "        text-align: right;\n",
       "    }\n",
       "</style>\n",
       "<table border=\"1\" class=\"dataframe\">\n",
       "  <thead>\n",
       "    <tr style=\"text-align: right;\">\n",
       "      <th></th>\n",
       "      <th>Y_pred</th>\n",
       "      <th>Y_actual</th>\n",
       "    </tr>\n",
       "  </thead>\n",
       "  <tbody>\n",
       "    <tr>\n",
       "      <th>Y_pred</th>\n",
       "      <td>1.000000</td>\n",
       "      <td>0.773728</td>\n",
       "    </tr>\n",
       "    <tr>\n",
       "      <th>Y_actual</th>\n",
       "      <td>0.773728</td>\n",
       "      <td>1.000000</td>\n",
       "    </tr>\n",
       "  </tbody>\n",
       "</table>\n",
       "</div>"
      ],
      "text/plain": [
       "            Y_pred  Y_actual\n",
       "Y_pred    1.000000  0.773728\n",
       "Y_actual  0.773728  1.000000"
      ]
     },
     "execution_count": 20,
     "metadata": {},
     "output_type": "execute_result"
    }
   ],
   "source": [
    "df = pd.DataFrame()\n",
    "df[\"Y_pred\"] = Y_pred\n",
    "df[\"Y_actual\"] = data_df[\"Y\"]\n",
    "df.corr()"
   ]
  },
  {
   "attachments": {},
   "cell_type": "markdown",
   "metadata": {},
   "source": [
    "- Both, Y actual & Y predicted is highly correlated, hence we are able to minimize cost function E."
   ]
  }
 ],
 "metadata": {
  "kernelspec": {
   "display_name": "Python 3",
   "language": "python",
   "name": "python3"
  },
  "language_info": {
   "codemirror_mode": {
    "name": "ipython",
    "version": 3
   },
   "file_extension": ".py",
   "mimetype": "text/x-python",
   "name": "python",
   "nbconvert_exporter": "python",
   "pygments_lexer": "ipython3",
   "version": "3.9.7"
  },
  "orig_nbformat": 4,
  "vscode": {
   "interpreter": {
    "hash": "11938c6bc6919ae2720b4d5011047913343b08a43b18698fd82dedb0d4417594"
   }
  }
 },
 "nbformat": 4,
 "nbformat_minor": 2
}
