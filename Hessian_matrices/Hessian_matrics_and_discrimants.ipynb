{
 "cells": [
  {
   "attachments": {},
   "cell_type": "markdown",
   "metadata": {},
   "source": [
    "# $Hessian$ $Matrix$"
   ]
  },
  {
   "attachments": {},
   "cell_type": "markdown",
   "metadata": {},
   "source": [
    "- The Hessian matrix is a matrix of second order partial derivatives.\n",
    ">\n",
    "- Suppose we have a function f of n variables, i.e., $f$ $:$ $R^n$ --> $R$ , then the hessian matrix of function f is given as,\n",
    ">\n",
    "&emsp; &emsp; <img src=\"https://www.algebrapracticeproblems.com/wp-content/uploads/2021/02/hessian-matrix-formula-768x492.png?ezimgfmt=ng:webp/ngcb1\" >\n",
    ">"
   ]
  },
  {
   "attachments": {},
   "cell_type": "markdown",
   "metadata": {},
   "source": [
    "- Suppose we have a function, $f(x, y) = x^2 - 1.5xy + y^2$\n",
    ">\n",
    "- Then the Hessian $H_f$ and the discriminant $D_f$ will be:\n",
    ">"
   ]
  },
  {
   "cell_type": "code",
   "execution_count": 31,
   "metadata": {},
   "outputs": [
    {
     "data": {
      "text/latex": [
       "$\\displaystyle x^{2} - 1.5 x y + y^{2}$"
      ],
      "text/plain": [
       "x**2 - 1.5*x*y + y**2"
      ]
     },
     "execution_count": 31,
     "metadata": {},
     "output_type": "execute_result"
    }
   ],
   "source": [
    "from sympy import *\n",
    "x,y = symbols(\"x y\")\n",
    "f = x**2 - 1.5*x*y + y**2\n",
    "f"
   ]
  },
  {
   "cell_type": "code",
   "execution_count": 32,
   "metadata": {},
   "outputs": [
    {
     "data": {
      "text/latex": [
       "$\\displaystyle 2$"
      ],
      "text/plain": [
       "2"
      ]
     },
     "execution_count": 32,
     "metadata": {},
     "output_type": "execute_result"
    }
   ],
   "source": [
    "# Second order partial derivative of f w.r.t. x\n",
    "fxx = diff(f,x,2)\n",
    "fxx"
   ]
  },
  {
   "cell_type": "code",
   "execution_count": 33,
   "metadata": {},
   "outputs": [
    {
     "data": {
      "text/latex": [
       "$\\displaystyle 2$"
      ],
      "text/plain": [
       "2"
      ]
     },
     "execution_count": 33,
     "metadata": {},
     "output_type": "execute_result"
    }
   ],
   "source": [
    "# Second order partial derivative of f w.r.t. y\n",
    "fyy = diff(f,y,2)\n",
    "fyy"
   ]
  },
  {
   "cell_type": "code",
   "execution_count": 34,
   "metadata": {},
   "outputs": [
    {
     "data": {
      "text/latex": [
       "$\\displaystyle -1.5$"
      ],
      "text/plain": [
       "-1.50000000000000"
      ]
     },
     "execution_count": 34,
     "metadata": {},
     "output_type": "execute_result"
    }
   ],
   "source": [
    "# derivative of 'f' firtly w.r.t. 'x' then w.r.t. 'y'\n",
    "fx = diff(f,x)\n",
    "fxy = diff(fx,y)\n",
    "fxy"
   ]
  },
  {
   "cell_type": "code",
   "execution_count": 35,
   "metadata": {},
   "outputs": [
    {
     "name": "stdout",
     "output_type": "stream",
     "text": [
      "[[ 2.  -1.5]\n",
      " [-1.5  2. ]]\n"
     ]
    }
   ],
   "source": [
    "import numpy as np\n",
    "critical_point = np.array([0,0])\n",
    "fxx = lambdify([x,y],fxx)\n",
    "fxy = lambdify([x,y],fxy)\n",
    "fyy = lambdify([x,y],fyy)\n",
    "\n",
    "# Hessian matrix at critical point (0,0)\n",
    "Hf = np.matrix([[fxx(0,0),fxy(0,0)],[fxy(0,0),fyy(0,0)]])\n",
    "print(Hf)"
   ]
  },
  {
   "cell_type": "code",
   "execution_count": 36,
   "metadata": {},
   "outputs": [
    {
     "data": {
      "text/plain": [
       "1.75"
      ]
     },
     "execution_count": 36,
     "metadata": {},
     "output_type": "execute_result"
    }
   ],
   "source": [
    "Df = np.linalg.det(Hf)\n",
    "Df"
   ]
  },
  {
   "attachments": {},
   "cell_type": "markdown",
   "metadata": {},
   "source": [
    "- Here, at point [0, 0], $D_f$ > 0 and $f_{xx}$ > 0, hence at origin our function achieves local minima, and it is strictly convex function.\n",
    ">"
   ]
  },
  {
   "attachments": {},
   "cell_type": "markdown",
   "metadata": {},
   "source": [
    "### $Significance$ $of$ $Hessian$ $matrix$ & $Discriminant$"
   ]
  },
  {
   "attachments": {},
   "cell_type": "markdown",
   "metadata": {},
   "source": [
    "- The Hessian matrix and the corresponding discriminant are used to determine the local extreme points of a function.\n",
    ">\n",
    "- Evaluating them helps in the understanding a function of several variables. Here are some important rules for a point (a,b) where the discriminant is D(a, b):\n",
    ">\n",
    "&emsp; &emsp; 1) The function f has a local minimum if $f_{xx}(a, b)$ > 0 and the discriminant D(a,b) > 0.\n",
    ">\n",
    "&emsp; &emsp; 2) The function f has a local maximum if $f_{xx}(a, b)$ < 0 and the discriminant D(a,b) > 0.\n",
    ">\n",
    "&emsp; &emsp; 3) The function f has a saddle point if D(a, b) < 0.\n",
    ">\n",
    "&emsp; &emsp; 4) We cannot draw any conclusions if D(a, b) = 0 and need more tests.\n",
    ">"
   ]
  }
 ],
 "metadata": {
  "kernelspec": {
   "display_name": "Python 3",
   "language": "python",
   "name": "python3"
  },
  "language_info": {
   "codemirror_mode": {
    "name": "ipython",
    "version": 3
   },
   "file_extension": ".py",
   "mimetype": "text/x-python",
   "name": "python",
   "nbconvert_exporter": "python",
   "pygments_lexer": "ipython3",
   "version": "3.9.7"
  },
  "orig_nbformat": 4,
  "vscode": {
   "interpreter": {
    "hash": "11938c6bc6919ae2720b4d5011047913343b08a43b18698fd82dedb0d4417594"
   }
  }
 },
 "nbformat": 4,
 "nbformat_minor": 2
}
